{
  "cells": [
    {
      "cell_type": "code",
      "execution_count": null,
      "metadata": {
        "id": "RkLOmAOG2xnt"
      },
      "outputs": [],
      "source": [
        "#this algorithm extrapolates the wind profile using NBeats\n",
        "#the hyperparameters were optimized with Optuna v. 4.2.1\n",
        "#df is the dataset\n",
        "\n",
        "\n",
        "timesteps = 1\n",
        "windows, labels = prep_time_series(df[:12000,1], lookback=timesteps, horizon=1)\n",
        "print(windows)\n",
        "\n",
        "windows2, labels2 = prep_time_series(df[timesteps:12000,5], lookback=0, horizon=1)\n",
        "print(labels2)\n",
        "X_train, X_test, y_train, y_test = train_test_split(windows, labels2,\n",
        "shuffle = False, test_size = 0.1)\n",
        "\n",
        "num_generic_layers = 2\n",
        "num_generic_neurons = 896\n",
        "batch_size = 664\n",
        "nbeats = NBeatsModel(num_generic_layers=num_generic_layers,\n",
        "                       num_generic_neurons = num_generic_neurons,\n",
        "                       lookback=timesteps, horizon=1, batch_size=batch_size)\n",
        "nbeats.build_layer()\n",
        "nbeats.build_model()\n",
        "time_input = keras.layers.Input(shape = (timesteps,))\n",
        "nbeats_layer = nbeats.model_layer(time_input)\n",
        "non_time_input  = keras.layers.Input(shape=(4,))\n",
        "units = 27\n",
        "x = keras.layers.Dense(units = units, activation='relu')(non_time_input)\n",
        "concat = keras.layers.Concatenate(axis=1)([nbeats_layer, x])\n",
        "output = keras.layers.Dense(1)(concat)\n",
        "model = keras.Model(inputs=[time_input, non_time_input], outputs=output)\n",
        "X_non_time = df[timesteps:, [0, 2, 3, 4]]\n",
        "model.compile(loss='mse')\n",
        "print([X_train, X_non_time[:len(X_train)]])\n",
        "model.fit([X_train, X_non_time[:len(X_train)]], y_train, epochs=7)\n",
        "model.summary(print_fn=lambda x: sys.stdout.write(x + '\\n'), expand_nested=True)\n",
        "Y = model.predict([X_test, X_non_time[len(X_train):]], verbose=1)\n",
        "model.evaluate([X_test,X_non_time[len(X_train):]], y_test, verbose=1)\n",
        "\n",
        "plt.plot(y_test, label='Real')\n",
        "plt.plot(Y, label='Forecast')\n",
        "plt.legend()\n",
        "plt.show()\n",
        "\n"
      ]
    }
  ],
  "metadata": {
    "colab": {
      "provenance": [],
      "name": "nbeats_algorithm.ipynb"
    },
    "kernelspec": {
      "display_name": "Python 3",
      "name": "python3"
    },
    "language_info": {
      "name": "python"
    }
  },
  "nbformat": 4,
  "nbformat_minor": 0
}